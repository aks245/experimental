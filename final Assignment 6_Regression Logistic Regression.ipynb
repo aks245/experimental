{
 "cells": [
  {
   "cell_type": "code",
   "execution_count": 1,
   "id": "e1eb0d40",
   "metadata": {
    "ExecuteTime": {
     "end_time": "2023-01-20T11:19:58.535462Z",
     "start_time": "2023-01-20T11:19:55.948443Z"
    }
   },
   "outputs": [],
   "source": [
    "import pandas as pd\n",
    "import numpy as np\n",
    "import matplotlib.pyplot as plt\n",
    "import warnings\n",
    "warnings.filterwarnings('ignore')"
   ]
  },
  {
   "cell_type": "code",
   "execution_count": 2,
   "id": "a162c2db",
   "metadata": {
    "ExecuteTime": {
     "end_time": "2023-01-20T11:19:58.665310Z",
     "start_time": "2023-01-20T11:19:58.535462Z"
    }
   },
   "outputs": [],
   "source": [
    "df=pd.read_csv(r\"D:\\Data Science\\Assignments\\6 Logistic Regression\\bank-full.csv\", sep=';')"
   ]
  },
  {
   "cell_type": "code",
   "execution_count": 3,
   "id": "c0fb64e7",
   "metadata": {
    "ExecuteTime": {
     "end_time": "2023-01-20T11:19:58.706907Z",
     "start_time": "2023-01-20T11:19:58.667677Z"
    }
   },
   "outputs": [
    {
     "data": {
      "text/html": [
       "<div>\n",
       "<style scoped>\n",
       "    .dataframe tbody tr th:only-of-type {\n",
       "        vertical-align: middle;\n",
       "    }\n",
       "\n",
       "    .dataframe tbody tr th {\n",
       "        vertical-align: top;\n",
       "    }\n",
       "\n",
       "    .dataframe thead th {\n",
       "        text-align: right;\n",
       "    }\n",
       "</style>\n",
       "<table border=\"1\" class=\"dataframe\">\n",
       "  <thead>\n",
       "    <tr style=\"text-align: right;\">\n",
       "      <th></th>\n",
       "      <th>age</th>\n",
       "      <th>job</th>\n",
       "      <th>marital</th>\n",
       "      <th>education</th>\n",
       "      <th>default</th>\n",
       "      <th>balance</th>\n",
       "      <th>housing</th>\n",
       "      <th>loan</th>\n",
       "      <th>contact</th>\n",
       "      <th>day</th>\n",
       "      <th>month</th>\n",
       "      <th>duration</th>\n",
       "      <th>campaign</th>\n",
       "      <th>pdays</th>\n",
       "      <th>previous</th>\n",
       "      <th>poutcome</th>\n",
       "      <th>y</th>\n",
       "    </tr>\n",
       "  </thead>\n",
       "  <tbody>\n",
       "    <tr>\n",
       "      <th>0</th>\n",
       "      <td>58</td>\n",
       "      <td>management</td>\n",
       "      <td>married</td>\n",
       "      <td>tertiary</td>\n",
       "      <td>no</td>\n",
       "      <td>2143</td>\n",
       "      <td>yes</td>\n",
       "      <td>no</td>\n",
       "      <td>unknown</td>\n",
       "      <td>5</td>\n",
       "      <td>may</td>\n",
       "      <td>261</td>\n",
       "      <td>1</td>\n",
       "      <td>-1</td>\n",
       "      <td>0</td>\n",
       "      <td>unknown</td>\n",
       "      <td>no</td>\n",
       "    </tr>\n",
       "    <tr>\n",
       "      <th>1</th>\n",
       "      <td>44</td>\n",
       "      <td>technician</td>\n",
       "      <td>single</td>\n",
       "      <td>secondary</td>\n",
       "      <td>no</td>\n",
       "      <td>29</td>\n",
       "      <td>yes</td>\n",
       "      <td>no</td>\n",
       "      <td>unknown</td>\n",
       "      <td>5</td>\n",
       "      <td>may</td>\n",
       "      <td>151</td>\n",
       "      <td>1</td>\n",
       "      <td>-1</td>\n",
       "      <td>0</td>\n",
       "      <td>unknown</td>\n",
       "      <td>no</td>\n",
       "    </tr>\n",
       "    <tr>\n",
       "      <th>2</th>\n",
       "      <td>33</td>\n",
       "      <td>entrepreneur</td>\n",
       "      <td>married</td>\n",
       "      <td>secondary</td>\n",
       "      <td>no</td>\n",
       "      <td>2</td>\n",
       "      <td>yes</td>\n",
       "      <td>yes</td>\n",
       "      <td>unknown</td>\n",
       "      <td>5</td>\n",
       "      <td>may</td>\n",
       "      <td>76</td>\n",
       "      <td>1</td>\n",
       "      <td>-1</td>\n",
       "      <td>0</td>\n",
       "      <td>unknown</td>\n",
       "      <td>no</td>\n",
       "    </tr>\n",
       "    <tr>\n",
       "      <th>3</th>\n",
       "      <td>47</td>\n",
       "      <td>blue-collar</td>\n",
       "      <td>married</td>\n",
       "      <td>unknown</td>\n",
       "      <td>no</td>\n",
       "      <td>1506</td>\n",
       "      <td>yes</td>\n",
       "      <td>no</td>\n",
       "      <td>unknown</td>\n",
       "      <td>5</td>\n",
       "      <td>may</td>\n",
       "      <td>92</td>\n",
       "      <td>1</td>\n",
       "      <td>-1</td>\n",
       "      <td>0</td>\n",
       "      <td>unknown</td>\n",
       "      <td>no</td>\n",
       "    </tr>\n",
       "    <tr>\n",
       "      <th>4</th>\n",
       "      <td>33</td>\n",
       "      <td>unknown</td>\n",
       "      <td>single</td>\n",
       "      <td>unknown</td>\n",
       "      <td>no</td>\n",
       "      <td>1</td>\n",
       "      <td>no</td>\n",
       "      <td>no</td>\n",
       "      <td>unknown</td>\n",
       "      <td>5</td>\n",
       "      <td>may</td>\n",
       "      <td>198</td>\n",
       "      <td>1</td>\n",
       "      <td>-1</td>\n",
       "      <td>0</td>\n",
       "      <td>unknown</td>\n",
       "      <td>no</td>\n",
       "    </tr>\n",
       "  </tbody>\n",
       "</table>\n",
       "</div>"
      ],
      "text/plain": [
       "   age           job  marital  education default  balance housing loan  \\\n",
       "0   58    management  married   tertiary      no     2143     yes   no   \n",
       "1   44    technician   single  secondary      no       29     yes   no   \n",
       "2   33  entrepreneur  married  secondary      no        2     yes  yes   \n",
       "3   47   blue-collar  married    unknown      no     1506     yes   no   \n",
       "4   33       unknown   single    unknown      no        1      no   no   \n",
       "\n",
       "   contact  day month  duration  campaign  pdays  previous poutcome   y  \n",
       "0  unknown    5   may       261         1     -1         0  unknown  no  \n",
       "1  unknown    5   may       151         1     -1         0  unknown  no  \n",
       "2  unknown    5   may        76         1     -1         0  unknown  no  \n",
       "3  unknown    5   may        92         1     -1         0  unknown  no  \n",
       "4  unknown    5   may       198         1     -1         0  unknown  no  "
      ]
     },
     "execution_count": 3,
     "metadata": {},
     "output_type": "execute_result"
    }
   ],
   "source": [
    "df.head(5)"
   ]
  },
  {
   "cell_type": "code",
   "execution_count": 4,
   "id": "dc7cf81f",
   "metadata": {
    "ExecuteTime": {
     "end_time": "2023-01-20T11:19:58.739310Z",
     "start_time": "2023-01-20T11:19:58.712128Z"
    }
   },
   "outputs": [
    {
     "data": {
      "text/html": [
       "<div>\n",
       "<style scoped>\n",
       "    .dataframe tbody tr th:only-of-type {\n",
       "        vertical-align: middle;\n",
       "    }\n",
       "\n",
       "    .dataframe tbody tr th {\n",
       "        vertical-align: top;\n",
       "    }\n",
       "\n",
       "    .dataframe thead th {\n",
       "        text-align: right;\n",
       "    }\n",
       "</style>\n",
       "<table border=\"1\" class=\"dataframe\">\n",
       "  <thead>\n",
       "    <tr style=\"text-align: right;\">\n",
       "      <th></th>\n",
       "      <th>balance</th>\n",
       "      <th>housing</th>\n",
       "      <th>loan</th>\n",
       "      <th>duration</th>\n",
       "      <th>campaign</th>\n",
       "      <th>y</th>\n",
       "    </tr>\n",
       "  </thead>\n",
       "  <tbody>\n",
       "    <tr>\n",
       "      <th>0</th>\n",
       "      <td>2143</td>\n",
       "      <td>yes</td>\n",
       "      <td>no</td>\n",
       "      <td>261</td>\n",
       "      <td>1</td>\n",
       "      <td>no</td>\n",
       "    </tr>\n",
       "    <tr>\n",
       "      <th>1</th>\n",
       "      <td>29</td>\n",
       "      <td>yes</td>\n",
       "      <td>no</td>\n",
       "      <td>151</td>\n",
       "      <td>1</td>\n",
       "      <td>no</td>\n",
       "    </tr>\n",
       "    <tr>\n",
       "      <th>2</th>\n",
       "      <td>2</td>\n",
       "      <td>yes</td>\n",
       "      <td>yes</td>\n",
       "      <td>76</td>\n",
       "      <td>1</td>\n",
       "      <td>no</td>\n",
       "    </tr>\n",
       "    <tr>\n",
       "      <th>3</th>\n",
       "      <td>1506</td>\n",
       "      <td>yes</td>\n",
       "      <td>no</td>\n",
       "      <td>92</td>\n",
       "      <td>1</td>\n",
       "      <td>no</td>\n",
       "    </tr>\n",
       "    <tr>\n",
       "      <th>4</th>\n",
       "      <td>1</td>\n",
       "      <td>no</td>\n",
       "      <td>no</td>\n",
       "      <td>198</td>\n",
       "      <td>1</td>\n",
       "      <td>no</td>\n",
       "    </tr>\n",
       "  </tbody>\n",
       "</table>\n",
       "</div>"
      ],
      "text/plain": [
       "   balance housing loan  duration  campaign   y\n",
       "0     2143     yes   no       261         1  no\n",
       "1       29     yes   no       151         1  no\n",
       "2        2     yes  yes        76         1  no\n",
       "3     1506     yes   no        92         1  no\n",
       "4        1      no   no       198         1  no"
      ]
     },
     "execution_count": 4,
     "metadata": {},
     "output_type": "execute_result"
    }
   ],
   "source": [
    "df=df.drop(columns=['age','job','marital','education','default','contact','day','month','poutcome','pdays','previous'],axis=1)\n",
    "df.head(5)"
   ]
  },
  {
   "cell_type": "code",
   "execution_count": 5,
   "id": "0505653e",
   "metadata": {
    "ExecuteTime": {
     "end_time": "2023-01-20T11:19:58.756626Z",
     "start_time": "2023-01-20T11:19:58.742425Z"
    }
   },
   "outputs": [
    {
     "data": {
      "text/plain": [
       "Index(['balance', 'housing', 'loan', 'duration', 'campaign', 'y'], dtype='object')"
      ]
     },
     "execution_count": 5,
     "metadata": {},
     "output_type": "execute_result"
    }
   ],
   "source": [
    "df.columns"
   ]
  },
  {
   "cell_type": "code",
   "execution_count": 6,
   "id": "d2fccc89",
   "metadata": {
    "ExecuteTime": {
     "end_time": "2023-01-20T11:19:58.789818Z",
     "start_time": "2023-01-20T11:19:58.759693Z"
    }
   },
   "outputs": [
    {
     "data": {
      "text/html": [
       "<div>\n",
       "<style scoped>\n",
       "    .dataframe tbody tr th:only-of-type {\n",
       "        vertical-align: middle;\n",
       "    }\n",
       "\n",
       "    .dataframe tbody tr th {\n",
       "        vertical-align: top;\n",
       "    }\n",
       "\n",
       "    .dataframe thead th {\n",
       "        text-align: right;\n",
       "    }\n",
       "</style>\n",
       "<table border=\"1\" class=\"dataframe\">\n",
       "  <thead>\n",
       "    <tr style=\"text-align: right;\">\n",
       "      <th></th>\n",
       "      <th>y</th>\n",
       "      <th>balance</th>\n",
       "      <th>housing</th>\n",
       "      <th>loan</th>\n",
       "      <th>duration</th>\n",
       "      <th>campaign</th>\n",
       "    </tr>\n",
       "  </thead>\n",
       "  <tbody>\n",
       "    <tr>\n",
       "      <th>0</th>\n",
       "      <td>no</td>\n",
       "      <td>2143</td>\n",
       "      <td>yes</td>\n",
       "      <td>no</td>\n",
       "      <td>261</td>\n",
       "      <td>1</td>\n",
       "    </tr>\n",
       "  </tbody>\n",
       "</table>\n",
       "</div>"
      ],
      "text/plain": [
       "    y  balance housing loan  duration  campaign\n",
       "0  no     2143     yes   no       261         1"
      ]
     },
     "execution_count": 6,
     "metadata": {},
     "output_type": "execute_result"
    }
   ],
   "source": [
    "df=df[['y','balance', 'housing', 'loan', 'duration', 'campaign']]\n",
    "df.head(1)"
   ]
  },
  {
   "cell_type": "code",
   "execution_count": 7,
   "id": "4d4b9ccf",
   "metadata": {
    "ExecuteTime": {
     "end_time": "2023-01-20T11:19:58.806275Z",
     "start_time": "2023-01-20T11:19:58.789818Z"
    }
   },
   "outputs": [
    {
     "data": {
      "text/plain": [
       "(45211, 6)"
      ]
     },
     "execution_count": 7,
     "metadata": {},
     "output_type": "execute_result"
    }
   ],
   "source": [
    "df.shape"
   ]
  },
  {
   "cell_type": "code",
   "execution_count": 8,
   "id": "f525c975",
   "metadata": {
    "ExecuteTime": {
     "end_time": "2023-01-20T11:19:58.856041Z",
     "start_time": "2023-01-20T11:19:58.806275Z"
    }
   },
   "outputs": [
    {
     "data": {
      "text/plain": [
       "y           0\n",
       "balance     0\n",
       "housing     0\n",
       "loan        0\n",
       "duration    0\n",
       "campaign    0\n",
       "dtype: int64"
      ]
     },
     "execution_count": 8,
     "metadata": {},
     "output_type": "execute_result"
    }
   ],
   "source": [
    "df.isna().sum()"
   ]
  },
  {
   "cell_type": "code",
   "execution_count": 9,
   "id": "ce5597b6",
   "metadata": {
    "ExecuteTime": {
     "end_time": "2023-01-20T11:20:00.828541Z",
     "start_time": "2023-01-20T11:19:58.857618Z"
    }
   },
   "outputs": [],
   "source": [
    "##Missing Value imputation\n",
    "from sklearn.impute import SimpleImputer"
   ]
  },
  {
   "cell_type": "code",
   "execution_count": 10,
   "id": "bf797f55",
   "metadata": {
    "ExecuteTime": {
     "end_time": "2023-01-20T11:20:00.844646Z",
     "start_time": "2023-01-20T11:20:00.837047Z"
    }
   },
   "outputs": [],
   "source": [
    "si = SimpleImputer(strategy='most_frequent')"
   ]
  },
  {
   "cell_type": "code",
   "execution_count": 11,
   "id": "46c42daf",
   "metadata": {
    "ExecuteTime": {
     "end_time": "2023-01-20T11:20:00.975120Z",
     "start_time": "2023-01-20T11:20:00.844646Z"
    }
   },
   "outputs": [],
   "source": [
    "df.iloc[:,1:8] = si.fit_transform(df.iloc[:,1:8])"
   ]
  },
  {
   "cell_type": "code",
   "execution_count": 12,
   "id": "d2382398",
   "metadata": {
    "ExecuteTime": {
     "end_time": "2023-01-20T11:20:01.015477Z",
     "start_time": "2023-01-20T11:20:00.975120Z"
    }
   },
   "outputs": [
    {
     "data": {
      "text/plain": [
       "y           0\n",
       "balance     0\n",
       "housing     0\n",
       "loan        0\n",
       "duration    0\n",
       "campaign    0\n",
       "dtype: int64"
      ]
     },
     "execution_count": 12,
     "metadata": {},
     "output_type": "execute_result"
    }
   ],
   "source": [
    "df.isna().sum()"
   ]
  },
  {
   "cell_type": "code",
   "execution_count": 17,
   "id": "80c47974",
   "metadata": {
    "ExecuteTime": {
     "end_time": "2023-01-20T11:20:01.130720Z",
     "start_time": "2023-01-20T11:20:01.117518Z"
    }
   },
   "outputs": [],
   "source": [
    "from sklearn.linear_model import LogisticRegression"
   ]
  },
  {
   "cell_type": "code",
   "execution_count": 18,
   "id": "257555a5",
   "metadata": {
    "ExecuteTime": {
     "end_time": "2023-01-20T11:20:01.147067Z",
     "start_time": "2023-01-20T11:20:01.130720Z"
    }
   },
   "outputs": [],
   "source": [
    "lg = LogisticRegression()"
   ]
  },
  {
   "cell_type": "code",
   "execution_count": 19,
   "id": "b1882a99",
   "metadata": {
    "ExecuteTime": {
     "end_time": "2023-01-20T11:20:01.195671Z",
     "start_time": "2023-01-20T11:20:01.151642Z"
    }
   },
   "outputs": [
    {
     "data": {
      "text/html": [
       "<div>\n",
       "<style scoped>\n",
       "    .dataframe tbody tr th:only-of-type {\n",
       "        vertical-align: middle;\n",
       "    }\n",
       "\n",
       "    .dataframe tbody tr th {\n",
       "        vertical-align: top;\n",
       "    }\n",
       "\n",
       "    .dataframe thead th {\n",
       "        text-align: right;\n",
       "    }\n",
       "</style>\n",
       "<table border=\"1\" class=\"dataframe\">\n",
       "  <thead>\n",
       "    <tr style=\"text-align: right;\">\n",
       "      <th></th>\n",
       "      <th>y</th>\n",
       "      <th>balance</th>\n",
       "      <th>housing</th>\n",
       "      <th>loan</th>\n",
       "      <th>duration</th>\n",
       "      <th>campaign</th>\n",
       "    </tr>\n",
       "  </thead>\n",
       "  <tbody>\n",
       "    <tr>\n",
       "      <th>0</th>\n",
       "      <td>0</td>\n",
       "      <td>2143</td>\n",
       "      <td>1</td>\n",
       "      <td>0</td>\n",
       "      <td>261</td>\n",
       "      <td>1</td>\n",
       "    </tr>\n",
       "    <tr>\n",
       "      <th>1</th>\n",
       "      <td>0</td>\n",
       "      <td>29</td>\n",
       "      <td>1</td>\n",
       "      <td>0</td>\n",
       "      <td>151</td>\n",
       "      <td>1</td>\n",
       "    </tr>\n",
       "    <tr>\n",
       "      <th>2</th>\n",
       "      <td>0</td>\n",
       "      <td>2</td>\n",
       "      <td>1</td>\n",
       "      <td>1</td>\n",
       "      <td>76</td>\n",
       "      <td>1</td>\n",
       "    </tr>\n",
       "    <tr>\n",
       "      <th>3</th>\n",
       "      <td>0</td>\n",
       "      <td>1506</td>\n",
       "      <td>1</td>\n",
       "      <td>0</td>\n",
       "      <td>92</td>\n",
       "      <td>1</td>\n",
       "    </tr>\n",
       "    <tr>\n",
       "      <th>4</th>\n",
       "      <td>0</td>\n",
       "      <td>1</td>\n",
       "      <td>0</td>\n",
       "      <td>0</td>\n",
       "      <td>198</td>\n",
       "      <td>1</td>\n",
       "    </tr>\n",
       "    <tr>\n",
       "      <th>...</th>\n",
       "      <td>...</td>\n",
       "      <td>...</td>\n",
       "      <td>...</td>\n",
       "      <td>...</td>\n",
       "      <td>...</td>\n",
       "      <td>...</td>\n",
       "    </tr>\n",
       "    <tr>\n",
       "      <th>45206</th>\n",
       "      <td>1</td>\n",
       "      <td>825</td>\n",
       "      <td>0</td>\n",
       "      <td>0</td>\n",
       "      <td>977</td>\n",
       "      <td>3</td>\n",
       "    </tr>\n",
       "    <tr>\n",
       "      <th>45207</th>\n",
       "      <td>1</td>\n",
       "      <td>1729</td>\n",
       "      <td>0</td>\n",
       "      <td>0</td>\n",
       "      <td>456</td>\n",
       "      <td>2</td>\n",
       "    </tr>\n",
       "    <tr>\n",
       "      <th>45208</th>\n",
       "      <td>1</td>\n",
       "      <td>5715</td>\n",
       "      <td>0</td>\n",
       "      <td>0</td>\n",
       "      <td>1127</td>\n",
       "      <td>5</td>\n",
       "    </tr>\n",
       "    <tr>\n",
       "      <th>45209</th>\n",
       "      <td>0</td>\n",
       "      <td>668</td>\n",
       "      <td>0</td>\n",
       "      <td>0</td>\n",
       "      <td>508</td>\n",
       "      <td>4</td>\n",
       "    </tr>\n",
       "    <tr>\n",
       "      <th>45210</th>\n",
       "      <td>0</td>\n",
       "      <td>2971</td>\n",
       "      <td>0</td>\n",
       "      <td>0</td>\n",
       "      <td>361</td>\n",
       "      <td>2</td>\n",
       "    </tr>\n",
       "  </tbody>\n",
       "</table>\n",
       "<p>45211 rows × 6 columns</p>\n",
       "</div>"
      ],
      "text/plain": [
       "       y  balance housing loan  duration  campaign\n",
       "0      0     2143       1    0       261         1\n",
       "1      0       29       1    0       151         1\n",
       "2      0        2       1    1        76         1\n",
       "3      0     1506       1    0        92         1\n",
       "4      0        1       0    0       198         1\n",
       "...   ..      ...     ...  ...       ...       ...\n",
       "45206  1      825       0    0       977         3\n",
       "45207  1     1729       0    0       456         2\n",
       "45208  1     5715       0    0      1127         5\n",
       "45209  0      668       0    0       508         4\n",
       "45210  0     2971       0    0       361         2\n",
       "\n",
       "[45211 rows x 6 columns]"
      ]
     },
     "execution_count": 19,
     "metadata": {},
     "output_type": "execute_result"
    }
   ],
   "source": [
    "df['y'].replace('no','0',inplace=True)\n",
    "df['y'].replace('yes','1',inplace=True)\n",
    "df['housing'].replace('no','0',inplace=True)\n",
    "df['housing'].replace('yes','1',inplace=True)\n",
    "df['loan'].replace('no','0',inplace=True)\n",
    "df['loan'].replace('yes','1',inplace=True)\n",
    "df"
   ]
  },
  {
   "cell_type": "code",
   "execution_count": 20,
   "id": "9310a35b",
   "metadata": {
    "ExecuteTime": {
     "end_time": "2023-01-20T11:20:01.212183Z",
     "start_time": "2023-01-20T11:20:01.196678Z"
    }
   },
   "outputs": [
    {
     "data": {
      "text/plain": [
       "y           object\n",
       "balance      int64\n",
       "housing     object\n",
       "loan        object\n",
       "duration     int64\n",
       "campaign     int64\n",
       "dtype: object"
      ]
     },
     "execution_count": 20,
     "metadata": {},
     "output_type": "execute_result"
    }
   ],
   "source": [
    "df.dtypes"
   ]
  },
  {
   "cell_type": "code",
   "execution_count": 21,
   "id": "ea9356e5",
   "metadata": {
    "ExecuteTime": {
     "end_time": "2023-01-20T11:20:01.278320Z",
     "start_time": "2023-01-20T11:20:01.216131Z"
    }
   },
   "outputs": [],
   "source": [
    "df = df.astype({'loan':'float'})\n",
    "df = df.astype({'housing':'float'})\n",
    "df = df.astype({'y':'float'})\n",
    "df = df.astype({'balance':'float'})\n",
    "df = df.astype({'duration':'float'})\n",
    "df = df.astype({'campaign':'float'})"
   ]
  },
  {
   "cell_type": "code",
   "execution_count": 22,
   "id": "43ea2716",
   "metadata": {
    "ExecuteTime": {
     "end_time": "2023-01-20T11:20:01.294064Z",
     "start_time": "2023-01-20T11:20:01.282450Z"
    }
   },
   "outputs": [
    {
     "data": {
      "text/plain": [
       "y           float64\n",
       "balance     float64\n",
       "housing     float64\n",
       "loan        float64\n",
       "duration    float64\n",
       "campaign    float64\n",
       "dtype: object"
      ]
     },
     "execution_count": 22,
     "metadata": {},
     "output_type": "execute_result"
    }
   ],
   "source": [
    "df.dtypes"
   ]
  },
  {
   "cell_type": "code",
   "execution_count": 24,
   "id": "4b1cac72",
   "metadata": {
    "ExecuteTime": {
     "end_time": "2023-01-20T11:20:55.755312Z",
     "start_time": "2023-01-20T11:20:55.735639Z"
    }
   },
   "outputs": [],
   "source": [
    "from sklearn.model_selection import train_test_split"
   ]
  },
  {
   "cell_type": "code",
   "execution_count": 25,
   "id": "1e4c1b96",
   "metadata": {
    "ExecuteTime": {
     "end_time": "2023-01-20T11:21:18.025823Z",
     "start_time": "2023-01-20T11:21:18.016719Z"
    }
   },
   "outputs": [],
   "source": [
    "x = df.iloc[:,1:]\n",
    "y = df['y']"
   ]
  },
  {
   "cell_type": "code",
   "execution_count": 26,
   "id": "c62e1e8e",
   "metadata": {
    "ExecuteTime": {
     "end_time": "2023-01-20T11:21:47.754929Z",
     "start_time": "2023-01-20T11:21:47.714482Z"
    }
   },
   "outputs": [],
   "source": [
    "xtrain,xtest,ytrain,ytest = train_test_split(x,y,train_size=0.75,random_state=1)"
   ]
  },
  {
   "cell_type": "code",
   "execution_count": 27,
   "id": "b1cc160d",
   "metadata": {
    "ExecuteTime": {
     "end_time": "2023-01-20T11:22:10.941828Z",
     "start_time": "2023-01-20T11:22:10.901268Z"
    }
   },
   "outputs": [
    {
     "data": {
      "text/html": [
       "<div>\n",
       "<style scoped>\n",
       "    .dataframe tbody tr th:only-of-type {\n",
       "        vertical-align: middle;\n",
       "    }\n",
       "\n",
       "    .dataframe tbody tr th {\n",
       "        vertical-align: top;\n",
       "    }\n",
       "\n",
       "    .dataframe thead th {\n",
       "        text-align: right;\n",
       "    }\n",
       "</style>\n",
       "<table border=\"1\" class=\"dataframe\">\n",
       "  <thead>\n",
       "    <tr style=\"text-align: right;\">\n",
       "      <th></th>\n",
       "      <th>balance</th>\n",
       "      <th>housing</th>\n",
       "      <th>loan</th>\n",
       "      <th>duration</th>\n",
       "      <th>campaign</th>\n",
       "    </tr>\n",
       "  </thead>\n",
       "  <tbody>\n",
       "    <tr>\n",
       "      <th>32731</th>\n",
       "      <td>137.0</td>\n",
       "      <td>1.0</td>\n",
       "      <td>0.0</td>\n",
       "      <td>343.0</td>\n",
       "      <td>2.0</td>\n",
       "    </tr>\n",
       "    <tr>\n",
       "      <th>1498</th>\n",
       "      <td>830.0</td>\n",
       "      <td>1.0</td>\n",
       "      <td>0.0</td>\n",
       "      <td>246.0</td>\n",
       "      <td>2.0</td>\n",
       "    </tr>\n",
       "    <tr>\n",
       "      <th>17532</th>\n",
       "      <td>1103.0</td>\n",
       "      <td>1.0</td>\n",
       "      <td>1.0</td>\n",
       "      <td>148.0</td>\n",
       "      <td>15.0</td>\n",
       "    </tr>\n",
       "    <tr>\n",
       "      <th>8166</th>\n",
       "      <td>229.0</td>\n",
       "      <td>1.0</td>\n",
       "      <td>0.0</td>\n",
       "      <td>214.0</td>\n",
       "      <td>2.0</td>\n",
       "    </tr>\n",
       "    <tr>\n",
       "      <th>15495</th>\n",
       "      <td>2858.0</td>\n",
       "      <td>1.0</td>\n",
       "      <td>1.0</td>\n",
       "      <td>247.0</td>\n",
       "      <td>5.0</td>\n",
       "    </tr>\n",
       "    <tr>\n",
       "      <th>...</th>\n",
       "      <td>...</td>\n",
       "      <td>...</td>\n",
       "      <td>...</td>\n",
       "      <td>...</td>\n",
       "      <td>...</td>\n",
       "    </tr>\n",
       "    <tr>\n",
       "      <th>43723</th>\n",
       "      <td>1830.0</td>\n",
       "      <td>0.0</td>\n",
       "      <td>0.0</td>\n",
       "      <td>318.0</td>\n",
       "      <td>3.0</td>\n",
       "    </tr>\n",
       "    <tr>\n",
       "      <th>32511</th>\n",
       "      <td>528.0</td>\n",
       "      <td>1.0</td>\n",
       "      <td>0.0</td>\n",
       "      <td>233.0</td>\n",
       "      <td>2.0</td>\n",
       "    </tr>\n",
       "    <tr>\n",
       "      <th>5192</th>\n",
       "      <td>4191.0</td>\n",
       "      <td>0.0</td>\n",
       "      <td>0.0</td>\n",
       "      <td>363.0</td>\n",
       "      <td>6.0</td>\n",
       "    </tr>\n",
       "    <tr>\n",
       "      <th>12172</th>\n",
       "      <td>1783.0</td>\n",
       "      <td>0.0</td>\n",
       "      <td>0.0</td>\n",
       "      <td>11.0</td>\n",
       "      <td>11.0</td>\n",
       "    </tr>\n",
       "    <tr>\n",
       "      <th>33003</th>\n",
       "      <td>349.0</td>\n",
       "      <td>1.0</td>\n",
       "      <td>0.0</td>\n",
       "      <td>179.0</td>\n",
       "      <td>2.0</td>\n",
       "    </tr>\n",
       "  </tbody>\n",
       "</table>\n",
       "<p>33908 rows × 5 columns</p>\n",
       "</div>"
      ],
      "text/plain": [
       "       balance  housing  loan  duration  campaign\n",
       "32731    137.0      1.0   0.0     343.0       2.0\n",
       "1498     830.0      1.0   0.0     246.0       2.0\n",
       "17532   1103.0      1.0   1.0     148.0      15.0\n",
       "8166     229.0      1.0   0.0     214.0       2.0\n",
       "15495   2858.0      1.0   1.0     247.0       5.0\n",
       "...        ...      ...   ...       ...       ...\n",
       "43723   1830.0      0.0   0.0     318.0       3.0\n",
       "32511    528.0      1.0   0.0     233.0       2.0\n",
       "5192    4191.0      0.0   0.0     363.0       6.0\n",
       "12172   1783.0      0.0   0.0      11.0      11.0\n",
       "33003    349.0      1.0   0.0     179.0       2.0\n",
       "\n",
       "[33908 rows x 5 columns]"
      ]
     },
     "execution_count": 27,
     "metadata": {},
     "output_type": "execute_result"
    }
   ],
   "source": [
    "xtrain"
   ]
  },
  {
   "cell_type": "code",
   "execution_count": 28,
   "id": "8290ffe5",
   "metadata": {
    "ExecuteTime": {
     "end_time": "2023-01-20T11:22:16.653832Z",
     "start_time": "2023-01-20T11:22:16.426630Z"
    }
   },
   "outputs": [],
   "source": [
    "#Train the model\n",
    "lg.fit(xtrain,ytrain)\n",
    "\n",
    "#Prediction\n",
    "ypred = lg.predict(xtest)"
   ]
  },
  {
   "cell_type": "code",
   "execution_count": 29,
   "id": "6b523425",
   "metadata": {
    "ExecuteTime": {
     "end_time": "2023-01-20T11:22:58.534294Z",
     "start_time": "2023-01-20T11:22:58.517935Z"
    }
   },
   "outputs": [
    {
     "data": {
      "text/plain": [
       "11303"
      ]
     },
     "execution_count": 29,
     "metadata": {},
     "output_type": "execute_result"
    }
   ],
   "source": [
    "len(xtest)"
   ]
  },
  {
   "cell_type": "code",
   "execution_count": 30,
   "id": "a3159ce4",
   "metadata": {
    "ExecuteTime": {
     "end_time": "2023-01-20T11:23:00.813575Z",
     "start_time": "2023-01-20T11:23:00.796270Z"
    }
   },
   "outputs": [
    {
     "data": {
      "text/plain": [
       "11303"
      ]
     },
     "execution_count": 30,
     "metadata": {},
     "output_type": "execute_result"
    }
   ],
   "source": [
    "len(ypred)"
   ]
  },
  {
   "cell_type": "code",
   "execution_count": 32,
   "id": "cd85fcbe",
   "metadata": {
    "ExecuteTime": {
     "end_time": "2023-01-20T11:23:15.382591Z",
     "start_time": "2023-01-20T11:23:15.366516Z"
    }
   },
   "outputs": [
    {
     "name": "stdout",
     "output_type": "stream",
     "text": [
      "Actual Y:  [0. 0. 0. 1. 0. 0. 0. 0. 0. 0. 0. 0. 0. 0. 0. 0. 0. 0. 0. 0. 0. 0. 0. 0.\n",
      " 0. 1. 0. 1. 0. 0. 0. 0. 0. 0. 0. 0. 0. 1. 1. 0. 0. 0. 0. 0. 0. 0. 1. 0.\n",
      " 0. 0. 0. 1. 0. 0. 0. 0. 0. 0. 0. 0. 0. 0. 0. 0. 0. 0. 0. 1. 0. 0. 0. 0.\n",
      " 0. 0. 0. 0. 0. 0. 0. 0. 0. 0. 0. 0. 0. 0. 1. 0. 1. 0. 0. 0. 0. 0. 0. 0.\n",
      " 0. 0. 0. 0. 0. 0. 0. 0. 0. 0. 0. 0. 0. 0. 0. 0. 0. 0. 0. 0. 0. 0. 0. 0.\n",
      " 1. 0. 0. 0. 0. 0. 0. 0. 0. 1. 0. 1. 0. 0. 0. 0. 1. 0. 0. 0. 0. 0. 0. 0.\n",
      " 0. 0. 0. 0. 0. 0. 0. 0. 1. 0. 0. 1. 0. 0. 0. 0. 0. 0. 0. 0. 0. 0. 0. 0.\n",
      " 0. 0. 0. 0. 0. 0. 0. 0. 0. 0. 0. 0. 1. 1. 0. 1. 0. 0. 0. 0. 1. 1. 0. 0.\n",
      " 0. 0. 0. 0. 0. 0. 0. 0. 0. 0. 0. 0. 0. 1. 0. 0. 0. 0. 1. 1. 0. 0. 0. 0.\n",
      " 0. 0. 0. 0. 0. 0. 0. 0. 0. 0. 0. 0. 0. 0. 0. 0. 0. 0. 0. 0. 0. 0. 0. 1.\n",
      " 0. 0. 0. 0. 0. 0. 0. 0. 1. 0.]\n",
      "Predict Y: [0. 0. 0. 0. 0. 0. 0. 0. 0. 0. 0. 0. 0. 0. 0. 0. 0. 0. 0. 0. 0. 1. 0. 0.\n",
      " 0. 0. 0. 1. 0. 0. 0. 0. 0. 0. 0. 0. 0. 0. 0. 0. 0. 0. 0. 0. 0. 0. 0. 0.\n",
      " 0. 0. 0. 0. 0. 0. 0. 0. 0. 1. 0. 0. 0. 0. 0. 0. 0. 0. 0. 0. 0. 0. 0. 0.\n",
      " 0. 0. 0. 0. 0. 0. 0. 0. 0. 0. 0. 0. 0. 0. 0. 0. 0. 1. 0. 0. 0. 0. 0. 0.\n",
      " 0. 0. 0. 0. 0. 0. 0. 0. 0. 0. 0. 0. 0. 0. 0. 0. 0. 0. 0. 0. 0. 0. 0. 0.\n",
      " 0. 0. 0. 0. 0. 0. 0. 0. 0. 0. 0. 0. 0. 0. 0. 0. 0. 0. 0. 0. 1. 0. 0. 0.\n",
      " 0. 0. 0. 0. 0. 0. 0. 0. 0. 0. 0. 0. 0. 0. 0. 0. 0. 0. 0. 0. 0. 0. 0. 0.\n",
      " 0. 0. 0. 0. 0. 0. 0. 0. 0. 0. 0. 0. 0. 0. 0. 0. 0. 0. 0. 0. 1. 0. 0. 0.\n",
      " 0. 0. 0. 0. 0. 0. 0. 0. 0. 0. 0. 0. 0. 0. 0. 0. 0. 0. 0. 1. 0. 0. 0. 0.\n",
      " 0. 0. 0. 0. 0. 0. 0. 0. 0. 0. 0. 0. 0. 0. 0. 0. 0. 0. 0. 0. 0. 0. 0. 0.\n",
      " 0. 0. 0. 0. 0. 0. 0. 0. 0. 0.]\n"
     ]
    }
   ],
   "source": [
    "print('Actual Y: ', ytest[:250].values)\n",
    "print('Predict Y:', ypred[:250])"
   ]
  },
  {
   "cell_type": "code",
   "execution_count": 33,
   "id": "c53d49c6",
   "metadata": {
    "ExecuteTime": {
     "end_time": "2023-01-20T11:23:19.499271Z",
     "start_time": "2023-01-20T11:23:19.485886Z"
    }
   },
   "outputs": [],
   "source": [
    "from sklearn.metrics import classification_report,confusion_matrix"
   ]
  },
  {
   "cell_type": "code",
   "execution_count": 34,
   "id": "6304502f",
   "metadata": {
    "ExecuteTime": {
     "end_time": "2023-01-20T11:23:22.197057Z",
     "start_time": "2023-01-20T11:23:22.132499Z"
    }
   },
   "outputs": [
    {
     "name": "stdout",
     "output_type": "stream",
     "text": [
      "              precision    recall  f1-score   support\n",
      "\n",
      "         0.0       0.90      0.98      0.94      9998\n",
      "         1.0       0.56      0.19      0.28      1305\n",
      "\n",
      "    accuracy                           0.89     11303\n",
      "   macro avg       0.73      0.58      0.61     11303\n",
      "weighted avg       0.86      0.89      0.86     11303\n",
      "\n"
     ]
    }
   ],
   "source": [
    "print(classification_report(ytest,ypred))"
   ]
  },
  {
   "cell_type": "code",
   "execution_count": 35,
   "id": "32c3b1c2",
   "metadata": {
    "ExecuteTime": {
     "end_time": "2023-01-20T11:23:25.972162Z",
     "start_time": "2023-01-20T11:23:25.940056Z"
    }
   },
   "outputs": [
    {
     "data": {
      "text/plain": [
       "array([[9804,  194],\n",
       "       [1058,  247]], dtype=int64)"
      ]
     },
     "execution_count": 35,
     "metadata": {},
     "output_type": "execute_result"
    }
   ],
   "source": [
    "confusion_matrix(ytest,ypred)"
   ]
  },
  {
   "cell_type": "code",
   "execution_count": 36,
   "id": "8f450ffa",
   "metadata": {
    "ExecuteTime": {
     "end_time": "2023-01-20T11:23:29.936506Z",
     "start_time": "2023-01-20T11:23:29.320258Z"
    }
   },
   "outputs": [
    {
     "data": {
      "text/plain": [
       "Text(50.722222222222214, 0.5, 'Predicted Values')"
      ]
     },
     "execution_count": 36,
     "metadata": {},
     "output_type": "execute_result"
    },
    {
     "data": {
      "image/png": "[encoded data removed]",
      "text/plain": [
       "<Figure size 640x480 with 2 Axes>"
      ]
     },
     "metadata": {},
     "output_type": "display_data"
    }
   ],
   "source": [
    "import seaborn as sns\n",
    "sns.heatmap(confusion_matrix(ytest,ypred), annot=True)\n",
    "plt.xlabel('Actual Values')\n",
    "plt.ylabel('Predicted Values')"
   ]
  },
  {
   "cell_type": "code",
   "execution_count": 37,
   "id": "2c25465e",
   "metadata": {
    "ExecuteTime": {
     "end_time": "2023-01-20T11:23:42.452676Z",
     "start_time": "2023-01-20T11:23:42.178747Z"
    }
   },
   "outputs": [
    {
     "name": "stdout",
     "output_type": "stream",
     "text": [
      "[0. 0. 0. 1. 0. 0. 0. 0. 0. 0. 0. 0. 0. 0. 0. 0. 0. 0. 0. 0. 0. 0. 0. 0.\n",
      " 0. 1. 0. 1. 0. 0. 0. 0. 0. 0. 0. 0. 0. 1. 1. 0. 0. 0. 0. 0. 0. 0. 1. 0.\n",
      " 0. 0. 0. 1. 0. 0. 0. 0. 0. 0. 0. 0. 0. 0. 0. 0. 0. 0. 0. 1. 0. 0. 0. 0.\n",
      " 0. 0. 0. 0. 0. 0. 0. 0. 0. 0. 0. 0. 0. 0. 1. 0. 1. 0. 0. 0. 0. 0. 0. 0.\n",
      " 0. 0. 0. 0. 0. 0. 0. 0. 0. 0. 0. 0. 0. 0. 0. 0. 0. 0. 0. 0. 0. 0. 0. 0.\n",
      " 1. 0. 0. 0. 0. 0. 0. 0. 0. 1. 0. 1. 0. 0. 0. 0. 1. 0. 0. 0. 0. 0. 0. 0.\n",
      " 0. 0. 0. 0. 0. 0. 0. 0. 1. 0. 0. 1. 0. 0. 0. 0. 0. 0. 0. 0. 0. 0. 0. 0.\n",
      " 0. 0. 0. 0. 0. 0. 0. 0. 0. 0. 0. 0. 1. 1. 0. 1. 0. 0. 0. 0. 1. 1. 0. 0.\n",
      " 0. 0. 0. 0. 0. 0. 0. 0. 0. 0. 0. 0. 0. 1. 0. 0. 0. 0. 1. 1. 0. 0. 0. 0.\n",
      " 0. 0. 0. 0. 0. 0. 0. 0. 0. 0. 0. 0. 0. 0. 0. 0. 0. 0. 0. 0. 0. 0. 0. 1.\n",
      " 0. 0. 0. 0. 0. 0. 0. 0. 1. 0.]\n",
      "[0. 0. 0. 0. 0. 0. 0. 0. 0. 0. 0. 0. 0. 0. 0. 0. 0. 0. 0. 0. 0. 1. 0. 0.\n",
      " 0. 0. 0. 1. 0. 0. 0. 0. 0. 0. 0. 0. 0. 0. 0. 0. 0. 0. 0. 0. 0. 0. 0. 0.\n",
      " 0. 0. 0. 0. 0. 0. 0. 0. 0. 1. 0. 0. 0. 0. 0. 0. 0. 0. 0. 0. 0. 0. 0. 0.\n",
      " 0. 0. 0. 0. 0. 0. 0. 0. 0. 0. 0. 0. 0. 0. 0. 0. 0. 1. 0. 0. 0. 0. 0. 0.\n",
      " 0. 0. 0. 0. 0. 0. 0. 0. 0. 0. 0. 0. 0. 0. 0. 0. 0. 0. 0. 0. 0. 0. 0. 0.\n",
      " 0. 0. 0. 0. 0. 0. 0. 0. 0. 0. 0. 0. 0. 0. 0. 0. 0. 0. 0. 0. 1. 0. 0. 0.\n",
      " 0. 0. 0. 0. 0. 0. 0. 0. 0. 0. 0. 0. 0. 0. 0. 0. 0. 0. 0. 0. 0. 0. 0. 0.\n",
      " 0. 0. 0. 0. 0. 0. 0. 0. 0. 0. 0. 0. 0. 0. 0. 0. 0. 0. 0. 0. 1. 0. 0. 0.\n",
      " 0. 0. 0. 0. 0. 0. 0. 0. 0. 0. 0. 0. 0. 0. 0. 0. 0. 0. 0. 1. 0. 0. 0. 0.\n",
      " 0. 0. 0. 0. 0. 0. 0. 0. 0. 0. 0. 0. 0. 0. 0. 0. 0. 0. 0. 0. 0. 0. 0. 0.\n",
      " 0. 0. 0. 0. 0. 0. 0. 0. 0. 0.]\n"
     ]
    }
   ],
   "source": [
    "print(ytest[:250].values)\n",
    "print(ypred[:250])"
   ]
  },
  {
   "cell_type": "code",
   "execution_count": 38,
   "id": "ed31c3f6",
   "metadata": {
    "ExecuteTime": {
     "end_time": "2023-01-20T11:23:46.333046Z",
     "start_time": "2023-01-20T11:23:46.308594Z"
    }
   },
   "outputs": [
    {
     "data": {
      "text/plain": [
       "array([0.03000649, 0.15705151, 0.18933295, ..., 0.25479785, 0.8117167 ,\n",
       "       0.00801964])"
      ]
     },
     "execution_count": 38,
     "metadata": {},
     "output_type": "execute_result"
    }
   ],
   "source": [
    "#Threshold selection\n",
    "proba = lg.predict_proba(xtest)[:,1]\n",
    "proba"
   ]
  },
  {
   "cell_type": "code",
   "execution_count": 39,
   "id": "bea0d791",
   "metadata": {
    "ExecuteTime": {
     "end_time": "2023-01-20T11:23:49.123105Z",
     "start_time": "2023-01-20T11:23:49.109264Z"
    }
   },
   "outputs": [],
   "source": [
    "from sklearn.metrics import roc_auc_score, roc_curve, accuracy_score"
   ]
  },
  {
   "cell_type": "code",
   "execution_count": 40,
   "id": "e7a43ac6",
   "metadata": {
    "ExecuteTime": {
     "end_time": "2023-01-20T11:23:52.531833Z",
     "start_time": "2023-01-20T11:23:52.299002Z"
    }
   },
   "outputs": [
    {
     "data": {
      "text/plain": [
       "<matplotlib.legend.Legend at 0x26b77900df0>"
      ]
     },
     "execution_count": 40,
     "metadata": {},
     "output_type": "execute_result"
    },
    {
     "data": {
      "image/png": "[encoded data removed]",
      "text/plain": [
       "<Figure size 640x480 with 1 Axes>"
      ]
     },
     "metadata": {},
     "output_type": "display_data"
    }
   ],
   "source": [
    "auc = roc_auc_score(ytest,proba)\n",
    "\n",
    "fpr,tpr, threshold = roc_curve(ytest,proba)\n",
    "\n",
    "plt.plot(fpr,tpr,label = '(AUC = %0.2f)'%auc)\n",
    "plt.legend()"
   ]
  },
  {
   "cell_type": "code",
   "execution_count": 41,
   "id": "643913f0",
   "metadata": {
    "ExecuteTime": {
     "end_time": "2023-01-20T11:24:08.635192Z",
     "start_time": "2023-01-20T11:24:08.610518Z"
    }
   },
   "outputs": [
    {
     "data": {
      "text/plain": [
       "0.8247581317029689"
      ]
     },
     "execution_count": 41,
     "metadata": {},
     "output_type": "execute_result"
    }
   ],
   "source": [
    "auc"
   ]
  },
  {
   "cell_type": "code",
   "execution_count": 42,
   "id": "b484cd94",
   "metadata": {
    "ExecuteTime": {
     "end_time": "2023-01-20T11:24:11.172922Z",
     "start_time": "2023-01-20T11:24:11.148903Z"
    }
   },
   "outputs": [
    {
     "data": {
      "text/plain": [
       "array([1.99994841e+00, 9.99948411e-01, 9.99939600e-01, ...,\n",
       "       3.13873458e-03, 3.13645669e-03, 3.62915423e-06])"
      ]
     },
     "execution_count": 42,
     "metadata": {},
     "output_type": "execute_result"
    }
   ],
   "source": [
    "threshold"
   ]
  },
  {
   "cell_type": "code",
   "execution_count": 43,
   "id": "b7b1d2b6",
   "metadata": {
    "ExecuteTime": {
     "end_time": "2023-01-20T11:24:16.388490Z",
     "start_time": "2023-01-20T11:24:16.371809Z"
    }
   },
   "outputs": [
    {
     "data": {
      "text/plain": [
       "1987"
      ]
     },
     "execution_count": 43,
     "metadata": {},
     "output_type": "execute_result"
    }
   ],
   "source": [
    "len(threshold)"
   ]
  },
  {
   "cell_type": "code",
   "execution_count": 44,
   "id": "c7a156be",
   "metadata": {
    "ExecuteTime": {
     "end_time": "2023-01-20T11:25:00.978377Z",
     "start_time": "2023-01-20T11:24:58.026588Z"
    }
   },
   "outputs": [],
   "source": [
    "accuracy = []\n",
    "\n",
    "for i in threshold:\n",
    "    ypred = np.where(proba>i,1,0)\n",
    "    accuracy.append(accuracy_score(ytest,ypred))\n",
    "\n",
    "final_threshold = pd.concat([pd.Series(threshold),pd.Series(accuracy)], axis=1)\n",
    "final_threshold.columns = ['Threshold','Accuracy']"
   ]
  },
  {
   "cell_type": "code",
   "execution_count": 45,
   "id": "9f03135b",
   "metadata": {
    "ExecuteTime": {
     "end_time": "2023-01-20T11:25:05.188221Z",
     "start_time": "2023-01-20T11:25:05.156566Z"
    }
   },
   "outputs": [
    {
     "data": {
      "text/html": [
       "<div>\n",
       "<style scoped>\n",
       "    .dataframe tbody tr th:only-of-type {\n",
       "        vertical-align: middle;\n",
       "    }\n",
       "\n",
       "    .dataframe tbody tr th {\n",
       "        vertical-align: top;\n",
       "    }\n",
       "\n",
       "    .dataframe thead th {\n",
       "        text-align: right;\n",
       "    }\n",
       "</style>\n",
       "<table border=\"1\" class=\"dataframe\">\n",
       "  <thead>\n",
       "    <tr style=\"text-align: right;\">\n",
       "      <th></th>\n",
       "      <th>Threshold</th>\n",
       "      <th>Accuracy</th>\n",
       "    </tr>\n",
       "  </thead>\n",
       "  <tbody>\n",
       "    <tr>\n",
       "      <th>178</th>\n",
       "      <td>0.558102</td>\n",
       "      <td>0.889764</td>\n",
       "    </tr>\n",
       "    <tr>\n",
       "      <th>179</th>\n",
       "      <td>0.557406</td>\n",
       "      <td>0.889764</td>\n",
       "    </tr>\n",
       "    <tr>\n",
       "      <th>223</th>\n",
       "      <td>0.489084</td>\n",
       "      <td>0.889764</td>\n",
       "    </tr>\n",
       "    <tr>\n",
       "      <th>175</th>\n",
       "      <td>0.559439</td>\n",
       "      <td>0.889675</td>\n",
       "    </tr>\n",
       "    <tr>\n",
       "      <th>228</th>\n",
       "      <td>0.478603</td>\n",
       "      <td>0.889675</td>\n",
       "    </tr>\n",
       "    <tr>\n",
       "      <th>...</th>\n",
       "      <td>...</td>\n",
       "      <td>...</td>\n",
       "    </tr>\n",
       "    <tr>\n",
       "      <th>1982</th>\n",
       "      <td>0.009685</td>\n",
       "      <td>0.161904</td>\n",
       "    </tr>\n",
       "    <tr>\n",
       "      <th>1983</th>\n",
       "      <td>0.009675</td>\n",
       "      <td>0.161815</td>\n",
       "    </tr>\n",
       "    <tr>\n",
       "      <th>1984</th>\n",
       "      <td>0.003139</td>\n",
       "      <td>0.130939</td>\n",
       "    </tr>\n",
       "    <tr>\n",
       "      <th>1985</th>\n",
       "      <td>0.003136</td>\n",
       "      <td>0.130850</td>\n",
       "    </tr>\n",
       "    <tr>\n",
       "      <th>1986</th>\n",
       "      <td>0.000004</td>\n",
       "      <td>0.115545</td>\n",
       "    </tr>\n",
       "  </tbody>\n",
       "</table>\n",
       "<p>1987 rows × 2 columns</p>\n",
       "</div>"
      ],
      "text/plain": [
       "      Threshold  Accuracy\n",
       "178    0.558102  0.889764\n",
       "179    0.557406  0.889764\n",
       "223    0.489084  0.889764\n",
       "175    0.559439  0.889675\n",
       "228    0.478603  0.889675\n",
       "...         ...       ...\n",
       "1982   0.009685  0.161904\n",
       "1983   0.009675  0.161815\n",
       "1984   0.003139  0.130939\n",
       "1985   0.003136  0.130850\n",
       "1986   0.000004  0.115545\n",
       "\n",
       "[1987 rows x 2 columns]"
      ]
     },
     "execution_count": 45,
     "metadata": {},
     "output_type": "execute_result"
    }
   ],
   "source": [
    "final_threshold.sort_values(by='Accuracy', ascending=False)"
   ]
  },
  {
   "cell_type": "code",
   "execution_count": 46,
   "id": "59f7e01f",
   "metadata": {
    "ExecuteTime": {
     "end_time": "2023-01-20T11:25:10.804523Z",
     "start_time": "2023-01-20T11:25:10.796979Z"
    }
   },
   "outputs": [],
   "source": [
    "from sklearn.preprocessing import binarize"
   ]
  },
  {
   "cell_type": "code",
   "execution_count": 47,
   "id": "bbb3d5c9",
   "metadata": {
    "ExecuteTime": {
     "end_time": "2023-01-20T11:26:08.446319Z",
     "start_time": "2023-01-20T11:26:08.430317Z"
    }
   },
   "outputs": [
    {
     "data": {
      "text/plain": [
       "array([0., 0., 0., ..., 0., 1., 0.])"
      ]
     },
     "execution_count": 47,
     "metadata": {},
     "output_type": "execute_result"
    }
   ],
   "source": [
    "y = binarize([proba], threshold=0.558102)[0]\n",
    "y"
   ]
  },
  {
   "cell_type": "code",
   "execution_count": 48,
   "id": "ed4b9679",
   "metadata": {
    "ExecuteTime": {
     "end_time": "2023-01-20T11:26:13.084991Z",
     "start_time": "2023-01-20T11:26:13.036627Z"
    }
   },
   "outputs": [
    {
     "name": "stdout",
     "output_type": "stream",
     "text": [
      "              precision    recall  f1-score   support\n",
      "\n",
      "         0.0       0.90      0.98      0.94      9998\n",
      "         1.0       0.58      0.16      0.25      1305\n",
      "\n",
      "    accuracy                           0.89     11303\n",
      "   macro avg       0.74      0.57      0.60     11303\n",
      "weighted avg       0.86      0.89      0.86     11303\n",
      "\n"
     ]
    }
   ],
   "source": [
    "print(classification_report(ytest,y))"
   ]
  },
  {
   "cell_type": "code",
   "execution_count": null,
   "id": "7cc4190b",
   "metadata": {},
   "outputs": [],
   "source": []
  }
 ],
 "metadata": {
  "kernelspec": {
   "display_name": "Python 3 (ipykernel)",
   "language": "python",
   "name": "python3"
  },
  "language_info": {
   "codemirror_mode": {
    "name": "ipython",
    "version": 3
   },
   "file_extension": ".py",
   "mimetype": "text/x-python",
   "name": "python",
   "nbconvert_exporter": "python",
   "pygments_lexer": "ipython3",
   "version": "3.9.13"
  }
 },
 "nbformat": 4,
 "nbformat_minor": 5
}
